{
 "cells": [
  {
   "attachments": {},
   "cell_type": "markdown",
   "id": "064477b5-ed39-4d25-8e1d-1982920ac49a",
   "metadata": {},
   "source": [
    "# Circular Board Prize Probabilities"
   ]
  },
  {
   "cell_type": "markdown",
   "id": "9efac879-f273-4f43-b777-cfd2e817ca1e",
   "metadata": {},
   "source": [
    "## Dynamic programming"
   ]
  },
  {
   "cell_type": "code",
   "execution_count": 1,
   "id": "853c55c1-cf77-4caf-89af-0bbde39c3368",
   "metadata": {},
   "outputs": [],
   "source": [
    "import itertools\n",
    "import collections\n",
    "import numpy as np\n",
    "import pandas as pd\n",
    "import matplotlib.pyplot as plt"
   ]
  },
  {
   "cell_type": "code",
   "execution_count": 2,
   "id": "90622e9f-a499-4e6c-aa9b-d88a00e66f15",
   "metadata": {},
   "outputs": [],
   "source": [
    "def position(n):\n",
    "    return (13 + n) % 14 + 1\n",
    "\n",
    "def dice_sum_probabilities(x):\n",
    "    sum_counter = collections.Counter({0: 1})\n",
    "    for _ in range(x):\n",
    "        next_sum_counts = collections.Counter()\n",
    "        for current_sum in sum_counter:\n",
    "            for roll in range(1, 7):\n",
    "                next_sum_counts[current_sum + roll] += sum_counter[current_sum]\n",
    "        sum_counter = next_sum_counts\n",
    "    total = 6 ** x\n",
    "    return {dice_sum: count / total for dice_sum, count in sum_counter.items()}\n",
    "    \n",
    "def compute_probability(x, y):\n",
    "    sum_probabilities = dice_sum_probabilities(x)\n",
    "    return sum(p for n, p in sum_probabilities.items() if position(n) == y)"
   ]
  },
  {
   "cell_type": "code",
   "execution_count": 3,
   "id": "36684c12-9623-4d26-bebd-17a41a5e4571",
   "metadata": {
    "scrolled": true
   },
   "outputs": [],
   "source": [
    "positions = range(1, 15)\n",
    "df = pd.DataFrame({'Space': positions})\n",
    "\n",
    "for X in [3, 6, 15]:\n",
    "    df[f'P(X={X})'] = df['Space'].apply(lambda p: compute_probability(X, p))"
   ]
  },
  {
   "cell_type": "code",
   "execution_count": 4,
   "id": "1ed8e6c9-aa13-429e-839d-f05d0795dd6f",
   "metadata": {},
   "outputs": [
    {
     "data": {
      "text/html": [
       "<div>\n",
       "<style scoped>\n",
       "    .dataframe tbody tr th:only-of-type {\n",
       "        vertical-align: middle;\n",
       "    }\n",
       "\n",
       "    .dataframe tbody tr th {\n",
       "        vertical-align: top;\n",
       "    }\n",
       "\n",
       "    .dataframe thead th {\n",
       "        text-align: right;\n",
       "    }\n",
       "</style>\n",
       "<table border=\"1\" class=\"dataframe\">\n",
       "  <thead>\n",
       "    <tr style=\"text-align: right;\">\n",
       "      <th></th>\n",
       "      <th>Space</th>\n",
       "      <th>P(X=3)</th>\n",
       "      <th>P(X=6)</th>\n",
       "      <th>P(X=15)</th>\n",
       "    </tr>\n",
       "  </thead>\n",
       "  <tbody>\n",
       "    <tr>\n",
       "      <th>0</th>\n",
       "      <td>1</td>\n",
       "      <td>0.046296</td>\n",
       "      <td>0.051912</td>\n",
       "      <td>0.070874</td>\n",
       "    </tr>\n",
       "    <tr>\n",
       "      <th>1</th>\n",
       "      <td>2</td>\n",
       "      <td>0.027778</td>\n",
       "      <td>0.057935</td>\n",
       "      <td>0.070429</td>\n",
       "    </tr>\n",
       "    <tr>\n",
       "      <th>2</th>\n",
       "      <td>3</td>\n",
       "      <td>0.018519</td>\n",
       "      <td>0.066615</td>\n",
       "      <td>0.070182</td>\n",
       "    </tr>\n",
       "    <tr>\n",
       "      <th>3</th>\n",
       "      <td>4</td>\n",
       "      <td>0.018519</td>\n",
       "      <td>0.076239</td>\n",
       "      <td>0.070182</td>\n",
       "    </tr>\n",
       "    <tr>\n",
       "      <th>4</th>\n",
       "      <td>5</td>\n",
       "      <td>0.027778</td>\n",
       "      <td>0.084919</td>\n",
       "      <td>0.070429</td>\n",
       "    </tr>\n",
       "    <tr>\n",
       "      <th>5</th>\n",
       "      <td>6</td>\n",
       "      <td>0.046296</td>\n",
       "      <td>0.090942</td>\n",
       "      <td>0.070874</td>\n",
       "    </tr>\n",
       "    <tr>\n",
       "      <th>6</th>\n",
       "      <td>7</td>\n",
       "      <td>0.069444</td>\n",
       "      <td>0.093107</td>\n",
       "      <td>0.071429</td>\n",
       "    </tr>\n",
       "    <tr>\n",
       "      <th>7</th>\n",
       "      <td>8</td>\n",
       "      <td>0.097222</td>\n",
       "      <td>0.090942</td>\n",
       "      <td>0.071983</td>\n",
       "    </tr>\n",
       "    <tr>\n",
       "      <th>8</th>\n",
       "      <td>9</td>\n",
       "      <td>0.115741</td>\n",
       "      <td>0.084919</td>\n",
       "      <td>0.072428</td>\n",
       "    </tr>\n",
       "    <tr>\n",
       "      <th>9</th>\n",
       "      <td>10</td>\n",
       "      <td>0.125000</td>\n",
       "      <td>0.076239</td>\n",
       "      <td>0.072675</td>\n",
       "    </tr>\n",
       "    <tr>\n",
       "      <th>10</th>\n",
       "      <td>11</td>\n",
       "      <td>0.125000</td>\n",
       "      <td>0.066615</td>\n",
       "      <td>0.072675</td>\n",
       "    </tr>\n",
       "    <tr>\n",
       "      <th>11</th>\n",
       "      <td>12</td>\n",
       "      <td>0.115741</td>\n",
       "      <td>0.057935</td>\n",
       "      <td>0.072428</td>\n",
       "    </tr>\n",
       "    <tr>\n",
       "      <th>12</th>\n",
       "      <td>13</td>\n",
       "      <td>0.097222</td>\n",
       "      <td>0.051912</td>\n",
       "      <td>0.071983</td>\n",
       "    </tr>\n",
       "    <tr>\n",
       "      <th>13</th>\n",
       "      <td>14</td>\n",
       "      <td>0.069444</td>\n",
       "      <td>0.049769</td>\n",
       "      <td>0.071429</td>\n",
       "    </tr>\n",
       "  </tbody>\n",
       "</table>\n",
       "</div>"
      ],
      "text/plain": [
       "    Space    P(X=3)    P(X=6)   P(X=15)\n",
       "0       1  0.046296  0.051912  0.070874\n",
       "1       2  0.027778  0.057935  0.070429\n",
       "2       3  0.018519  0.066615  0.070182\n",
       "3       4  0.018519  0.076239  0.070182\n",
       "4       5  0.027778  0.084919  0.070429\n",
       "5       6  0.046296  0.090942  0.070874\n",
       "6       7  0.069444  0.093107  0.071429\n",
       "7       8  0.097222  0.090942  0.071983\n",
       "8       9  0.115741  0.084919  0.072428\n",
       "9      10  0.125000  0.076239  0.072675\n",
       "10     11  0.125000  0.066615  0.072675\n",
       "11     12  0.115741  0.057935  0.072428\n",
       "12     13  0.097222  0.051912  0.071983\n",
       "13     14  0.069444  0.049769  0.071429"
      ]
     },
     "execution_count": 4,
     "metadata": {},
     "output_type": "execute_result"
    }
   ],
   "source": [
    "df"
   ]
  },
  {
   "cell_type": "markdown",
   "id": "cf246f8d-dd4b-4a7f-98cd-252d397209e4",
   "metadata": {},
   "source": [
    "$P(X=3)$ for space 5 is consistent to result in analytical solution"
   ]
  },
  {
   "cell_type": "code",
   "execution_count": 5,
   "id": "eec812c0-62f2-4683-adfd-ca17eebba55c",
   "metadata": {},
   "outputs": [
    {
     "data": {
      "text/plain": [
       "np.float64(0.9999999999999999)"
      ]
     },
     "execution_count": 5,
     "metadata": {},
     "output_type": "execute_result"
    }
   ],
   "source": [
    "df[\"P(X=6)\"].sum()"
   ]
  },
  {
   "cell_type": "markdown",
   "id": "63be2239-4bd2-41f8-9252-24bfd3f5b4eb",
   "metadata": {},
   "source": [
    "Checking that probabilities sum to 1"
   ]
  },
  {
   "cell_type": "markdown",
   "id": "cbc24630-576b-4f29-81b6-1c3eb93db356",
   "metadata": {},
   "source": [
    "## Monte Carlo modeling"
   ]
  },
  {
   "cell_type": "code",
   "execution_count": 6,
   "id": "a536e677-b361-4206-8f2b-2964fdb2aa4b",
   "metadata": {},
   "outputs": [],
   "source": [
    "num_trials = 10_000_000\n",
    "\n",
    "def simulate_game(n):\n",
    "    rolls = np.random.randint(1, 7, size=(num_trials, n)).sum(axis=1)\n",
    "    positions = ((13 + rolls) % 14) + 1\n",
    "    counts = np.bincount(positions, minlength=15)[1:15]\n",
    "    probabilities = counts / num_trials\n",
    "    return probabilities"
   ]
  },
  {
   "cell_type": "code",
   "execution_count": 7,
   "id": "d698ccb7-2136-4bca-a76c-a7873920430b",
   "metadata": {},
   "outputs": [],
   "source": [
    "positions = range(1, 15)\n",
    "df_sim = pd.DataFrame(index=positions)\n",
    "\n",
    "for X in [3, 6, 15]:\n",
    "    probabilities = simulate_game(X)\n",
    "    df_sim[f'P(X={X})'] = probabilities"
   ]
  },
  {
   "cell_type": "code",
   "execution_count": 8,
   "id": "a0baf563-76cd-43b4-950e-77c9f2d69b21",
   "metadata": {},
   "outputs": [
    {
     "data": {
      "text/html": [
       "<div>\n",
       "<style scoped>\n",
       "    .dataframe tbody tr th:only-of-type {\n",
       "        vertical-align: middle;\n",
       "    }\n",
       "\n",
       "    .dataframe tbody tr th {\n",
       "        vertical-align: top;\n",
       "    }\n",
       "\n",
       "    .dataframe thead th {\n",
       "        text-align: right;\n",
       "    }\n",
       "</style>\n",
       "<table border=\"1\" class=\"dataframe\">\n",
       "  <thead>\n",
       "    <tr style=\"text-align: right;\">\n",
       "      <th></th>\n",
       "      <th>P(X=3)</th>\n",
       "      <th>P(X=6)</th>\n",
       "      <th>P(X=15)</th>\n",
       "    </tr>\n",
       "  </thead>\n",
       "  <tbody>\n",
       "    <tr>\n",
       "      <th>1</th>\n",
       "      <td>0.046244</td>\n",
       "      <td>0.051924</td>\n",
       "      <td>0.070941</td>\n",
       "    </tr>\n",
       "    <tr>\n",
       "      <th>2</th>\n",
       "      <td>0.027788</td>\n",
       "      <td>0.057919</td>\n",
       "      <td>0.070463</td>\n",
       "    </tr>\n",
       "    <tr>\n",
       "      <th>3</th>\n",
       "      <td>0.018451</td>\n",
       "      <td>0.066518</td>\n",
       "      <td>0.070177</td>\n",
       "    </tr>\n",
       "    <tr>\n",
       "      <th>4</th>\n",
       "      <td>0.018505</td>\n",
       "      <td>0.076191</td>\n",
       "      <td>0.070098</td>\n",
       "    </tr>\n",
       "    <tr>\n",
       "      <th>5</th>\n",
       "      <td>0.027811</td>\n",
       "      <td>0.084844</td>\n",
       "      <td>0.070523</td>\n",
       "    </tr>\n",
       "    <tr>\n",
       "      <th>6</th>\n",
       "      <td>0.046394</td>\n",
       "      <td>0.090893</td>\n",
       "      <td>0.070922</td>\n",
       "    </tr>\n",
       "    <tr>\n",
       "      <th>7</th>\n",
       "      <td>0.069512</td>\n",
       "      <td>0.093207</td>\n",
       "      <td>0.071476</td>\n",
       "    </tr>\n",
       "    <tr>\n",
       "      <th>8</th>\n",
       "      <td>0.097301</td>\n",
       "      <td>0.090988</td>\n",
       "      <td>0.072148</td>\n",
       "    </tr>\n",
       "    <tr>\n",
       "      <th>9</th>\n",
       "      <td>0.115722</td>\n",
       "      <td>0.085033</td>\n",
       "      <td>0.072271</td>\n",
       "    </tr>\n",
       "    <tr>\n",
       "      <th>10</th>\n",
       "      <td>0.125223</td>\n",
       "      <td>0.076238</td>\n",
       "      <td>0.072532</td>\n",
       "    </tr>\n",
       "    <tr>\n",
       "      <th>11</th>\n",
       "      <td>0.124910</td>\n",
       "      <td>0.066625</td>\n",
       "      <td>0.072645</td>\n",
       "    </tr>\n",
       "    <tr>\n",
       "      <th>12</th>\n",
       "      <td>0.115665</td>\n",
       "      <td>0.057970</td>\n",
       "      <td>0.072354</td>\n",
       "    </tr>\n",
       "    <tr>\n",
       "      <th>13</th>\n",
       "      <td>0.097081</td>\n",
       "      <td>0.051880</td>\n",
       "      <td>0.071947</td>\n",
       "    </tr>\n",
       "    <tr>\n",
       "      <th>14</th>\n",
       "      <td>0.069393</td>\n",
       "      <td>0.049770</td>\n",
       "      <td>0.071502</td>\n",
       "    </tr>\n",
       "  </tbody>\n",
       "</table>\n",
       "</div>"
      ],
      "text/plain": [
       "      P(X=3)    P(X=6)   P(X=15)\n",
       "1   0.046244  0.051924  0.070941\n",
       "2   0.027788  0.057919  0.070463\n",
       "3   0.018451  0.066518  0.070177\n",
       "4   0.018505  0.076191  0.070098\n",
       "5   0.027811  0.084844  0.070523\n",
       "6   0.046394  0.090893  0.070922\n",
       "7   0.069512  0.093207  0.071476\n",
       "8   0.097301  0.090988  0.072148\n",
       "9   0.115722  0.085033  0.072271\n",
       "10  0.125223  0.076238  0.072532\n",
       "11  0.124910  0.066625  0.072645\n",
       "12  0.115665  0.057970  0.072354\n",
       "13  0.097081  0.051880  0.071947\n",
       "14  0.069393  0.049770  0.071502"
      ]
     },
     "execution_count": 8,
     "metadata": {},
     "output_type": "execute_result"
    }
   ],
   "source": [
    "df_sim"
   ]
  },
  {
   "cell_type": "code",
   "execution_count": 9,
   "id": "df19f643-c4b1-4f31-bad6-027593509f27",
   "metadata": {},
   "outputs": [
    {
     "data": {
      "text/plain": [
       "np.float64(1.0)"
      ]
     },
     "execution_count": 9,
     "metadata": {},
     "output_type": "execute_result"
    }
   ],
   "source": [
    "df_sim[\"P(X=15)\"].sum()"
   ]
  },
  {
   "cell_type": "markdown",
   "id": "cf0dde1c-ecc7-4288-be84-61057a0357c9",
   "metadata": {},
   "source": [
    "## Distributions"
   ]
  },
  {
   "cell_type": "code",
   "execution_count": 10,
   "id": "423eed20-7c65-4e3d-8d04-fbf4eacd42b0",
   "metadata": {},
   "outputs": [
    {
     "data": {
      "image/png": "[encoded data removed]",
      "text/plain": [
       "<Figure size 1200x400 with 3 Axes>"
      ]
     },
     "metadata": {},
     "output_type": "display_data"
    }
   ],
   "source": [
    "fig, axs = plt.subplots(1, 3, figsize=(12, 4), sharex=True, sharey=True)\n",
    "\n",
    "for ax, X in zip(axs, [3, 6, 15]):\n",
    "    col = f'P(X={X})'\n",
    "    ax.bar(df['Space'], df[col])\n",
    "    ax.set_title(col)\n",
    "\n",
    "plt.tight_layout()\n",
    "plt.show()"
   ]
  }
 ],
 "metadata": {
  "kernelspec": {
   "display_name": "time-series venv",
   "language": "python",
   "name": ".venv"
  },
  "language_info": {
   "codemirror_mode": {
    "name": "ipython",
    "version": 3
   },
   "file_extension": ".py",
   "mimetype": "text/x-python",
   "name": "python",
   "nbconvert_exporter": "python",
   "pygments_lexer": "ipython3",
   "version": "3.11.6"
  }
 },
 "nbformat": 4,
 "nbformat_minor": 5
}
